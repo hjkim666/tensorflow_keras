{
 "cells": [
  {
   "cell_type": "markdown",
   "metadata": {},
   "source": [
    "# Diabetes example\n",
    "\n",
    "#### pip install scikit-learn 설치 필요"
   ]
  },
  {
   "cell_type": "code",
   "execution_count": 4,
   "metadata": {
    "scrolled": true
   },
   "outputs": [],
   "source": [
    "from keras.models import Sequential\n",
    "from keras.layers import Dense\n",
    "from sklearn.model_selection import train_test_split \n",
    "import numpy\n",
    "seed = 7\n",
    "numpy.random.seed(seed)\n",
    "dataset = numpy.loadtxt(\"diabetes.csv\", delimiter=\",\")\n",
    "\n",
    "X = dataset[:,0:8]\n",
    "Y = dataset[:,8]\n",
    "X_train, X_test, y_train, y_test = train_test_split(X, Y, test_size=0.33, random_state=42)"
   ]
  },
  {
   "cell_type": "markdown",
   "metadata": {},
   "source": [
    "# Modeling & Training"
   ]
  },
  {
   "cell_type": "code",
   "execution_count": 28,
   "metadata": {},
   "outputs": [
    {
     "name": "stdout",
     "output_type": "stream",
     "text": [
      "Train on 406 samples, validate on 102 samples\n",
      "Epoch 1/15\n",
      "406/406 [==============================] - 0s 667us/step - loss: 0.6915 - acc: 0.6108 - val_loss: 0.6869 - val_acc: 0.7157\n",
      "Epoch 2/15\n",
      "406/406 [==============================] - 0s 419us/step - loss: 0.6870 - acc: 0.6256 - val_loss: 0.6779 - val_acc: 0.7157\n",
      "Epoch 3/15\n",
      "406/406 [==============================] - 0s 409us/step - loss: 0.6784 - acc: 0.6256 - val_loss: 0.6618 - val_acc: 0.7157\n",
      "Epoch 4/15\n",
      "406/406 [==============================] - 0s 414us/step - loss: 0.6635 - acc: 0.6256 - val_loss: 0.6383 - val_acc: 0.7157\n",
      "Epoch 5/15\n",
      "406/406 [==============================] - 0s 394us/step - loss: 0.6379 - acc: 0.6281 - val_loss: 0.6011 - val_acc: 0.7353\n",
      "Epoch 6/15\n",
      "406/406 [==============================] - 0s 399us/step - loss: 0.6007 - acc: 0.6823 - val_loss: 0.5631 - val_acc: 0.7647\n",
      "Epoch 7/15\n",
      "406/406 [==============================] - 0s 394us/step - loss: 0.5616 - acc: 0.7241 - val_loss: 0.5363 - val_acc: 0.7647\n",
      "Epoch 8/15\n",
      "406/406 [==============================] - 0s 392us/step - loss: 0.5293 - acc: 0.7562 - val_loss: 0.5204 - val_acc: 0.7353\n",
      "Epoch 9/15\n",
      "406/406 [==============================] - 0s 387us/step - loss: 0.5062 - acc: 0.7586 - val_loss: 0.5122 - val_acc: 0.7549\n",
      "Epoch 10/15\n",
      "406/406 [==============================] - 0s 394us/step - loss: 0.4915 - acc: 0.7635 - val_loss: 0.5075 - val_acc: 0.7451\n",
      "Epoch 11/15\n",
      "406/406 [==============================] - 0s 394us/step - loss: 0.4845 - acc: 0.7611 - val_loss: 0.5162 - val_acc: 0.7353\n",
      "Epoch 12/15\n",
      "406/406 [==============================] - 0s 394us/step - loss: 0.4782 - acc: 0.7562 - val_loss: 0.5033 - val_acc: 0.7451\n",
      "Epoch 13/15\n",
      "406/406 [==============================] - 0s 392us/step - loss: 0.4735 - acc: 0.7611 - val_loss: 0.5095 - val_acc: 0.7255\n",
      "Epoch 14/15\n",
      "406/406 [==============================] - 0s 406us/step - loss: 0.4732 - acc: 0.7562 - val_loss: 0.5039 - val_acc: 0.7451\n",
      "Epoch 15/15\n",
      "406/406 [==============================] - 0s 389us/step - loss: 0.4704 - acc: 0.7635 - val_loss: 0.5062 - val_acc: 0.7353\n"
     ]
    }
   ],
   "source": [
    "model = Sequential()\n",
    "model.add(Dense(12, input_shape=(8,), activation='relu'))\n",
    "model.add(Dense(8,activation='relu'))\n",
    "model.add(Dense(1,activation='sigmoid'))\n",
    "model.compile(loss='binary_crossentropy', optimizer='adam'\n",
    "              , metrics=['acc'])\n",
    "history = model.fit(X_train, y_train\n",
    "                    , epochs=15, batch_size=10, verbose=1\n",
    "                    , validation_split=0.2)"
   ]
  },
  {
   "cell_type": "code",
   "execution_count": 29,
   "metadata": {},
   "outputs": [
    {
     "data": {
      "text/plain": [
       "['loss', 'acc']"
      ]
     },
     "execution_count": 29,
     "metadata": {},
     "output_type": "execute_result"
    }
   ],
   "source": [
    "model.metrics_names"
   ]
  },
  {
   "cell_type": "code",
   "execution_count": 30,
   "metadata": {},
   "outputs": [
    {
     "data": {
      "text/plain": [
       "dict_keys(['val_loss', 'val_acc', 'loss', 'acc'])"
      ]
     },
     "execution_count": 30,
     "metadata": {},
     "output_type": "execute_result"
    }
   ],
   "source": [
    "history.history.keys()"
   ]
  },
  {
   "cell_type": "markdown",
   "metadata": {},
   "source": [
    "#  시각화"
   ]
  },
  {
   "cell_type": "code",
   "execution_count": 31,
   "metadata": {},
   "outputs": [
    {
     "data": {
      "image/png": "[encoded data removed]",
      "text/plain": [
       "<Figure size 432x288 with 1 Axes>"
      ]
     },
     "metadata": {
      "needs_background": "light"
     },
     "output_type": "display_data"
    }
   ],
   "source": [
    "import matplotlib.pyplot as plt\n",
    "\n",
    "acc = history.history['acc']\n",
    "val_acc = history.history['val_acc']\n",
    "loss = history.history['loss']\n",
    "val_loss = history.history['val_loss']\n",
    "\n",
    "epochs = range(1, len(acc) + 1)\n",
    "\n",
    "plt.plot(epochs, loss, 'bo', label='Training loss')\n",
    "plt.plot(epochs, val_loss, 'b', label='Validation loss')\n",
    "plt.title('Training and validation loss')\n",
    "plt.xlabel('Epochs')\n",
    "plt.ylabel('Loss')\n",
    "plt.legend()\n",
    "\n",
    "plt.show()"
   ]
  },
  {
   "cell_type": "code",
   "execution_count": 32,
   "metadata": {},
   "outputs": [
    {
     "data": {
      "image/png": "[encoded data removed]",
      "text/plain": [
       "<Figure size 432x288 with 1 Axes>"
      ]
     },
     "metadata": {
      "needs_background": "light"
     },
     "output_type": "display_data"
    }
   ],
   "source": [
    "plt.clf()\n",
    "\n",
    "plt.plot(epochs, acc, 'bo', label='Training acc')\n",
    "plt.plot(epochs, val_acc, 'b', label='Validation acc')\n",
    "plt.title('Training and validation accuracy')\n",
    "plt.xlabel('Epochs')\n",
    "plt.ylabel('Accuracy')\n",
    "plt.legend()\n",
    "plt.show()"
   ]
  },
  {
   "cell_type": "markdown",
   "metadata": {},
   "source": [
    "### epoch=8 으로 변경후 다시 학습"
   ]
  },
  {
   "cell_type": "code",
   "execution_count": 37,
   "metadata": {},
   "outputs": [
    {
     "name": "stdout",
     "output_type": "stream",
     "text": [
      "Train on 406 samples, validate on 102 samples\n",
      "Epoch 1/8\n",
      "406/406 [==============================] - 0s 736us/step - loss: 0.6915 - acc: 0.6281 - val_loss: 0.6868 - val_acc: 0.7157\n",
      "Epoch 2/8\n",
      "406/406 [==============================] - 0s 414us/step - loss: 0.6856 - acc: 0.6256 - val_loss: 0.6732 - val_acc: 0.7157\n",
      "Epoch 3/8\n",
      "406/406 [==============================] - 0s 389us/step - loss: 0.6705 - acc: 0.6256 - val_loss: 0.6362 - val_acc: 0.7157\n",
      "Epoch 4/8\n",
      "406/406 [==============================] - 0s 468us/step - loss: 0.6442 - acc: 0.6256 - val_loss: 0.6015 - val_acc: 0.7157\n",
      "Epoch 5/8\n",
      "406/406 [==============================] - 0s 404us/step - loss: 0.6210 - acc: 0.6256 - val_loss: 0.5736 - val_acc: 0.7157\n",
      "Epoch 6/8\n",
      "406/406 [==============================] - 0s 360us/step - loss: 0.6010 - acc: 0.6256 - val_loss: 0.5570 - val_acc: 0.7157\n",
      "Epoch 7/8\n",
      "406/406 [==============================] - 0s 406us/step - loss: 0.5811 - acc: 0.6576 - val_loss: 0.5433 - val_acc: 0.7647\n",
      "Epoch 8/8\n",
      "406/406 [==============================] - 0s 404us/step - loss: 0.5570 - acc: 0.7094 - val_loss: 0.5317 - val_acc: 0.7549\n"
     ]
    }
   ],
   "source": [
    "model = Sequential()\n",
    "model.add(Dense(12, input_shape=(8,), activation='relu'))\n",
    "model.add(Dense(8, activation='relu'))\n",
    "model.add(Dense(1, activation='sigmoid'))\n",
    "model.compile(loss='binary_crossentropy', optimizer='adam'\n",
    "              , metrics=['acc'])\n",
    "history = model.fit(X_train, y_train\n",
    "                    , epochs=8, batch_size=10, verbose=1\n",
    "                    , validation_split=0.2)"
   ]
  },
  {
   "cell_type": "markdown",
   "metadata": {},
   "source": [
    "# Evaluation & Prediction"
   ]
  },
  {
   "cell_type": "code",
   "execution_count": 38,
   "metadata": {},
   "outputs": [
    {
     "name": "stdout",
     "output_type": "stream",
     "text": [
      "251/251 [==============================] - 0s 112us/step\n",
      "\n",
      "acc: 75.70%\n",
      "[1.0, 0.0, 1.0, 1.0, 0.0, 1.0, 1.0, 1.0, 1.0, 1.0, 1.0, 1.0, 1.0, 0.0, 1.0, 1.0, 1.0, 1.0, 0.0, 0.0, 1.0, 1.0, 1.0, 1.0, 1.0, 1.0, 1.0, 1.0, 1.0, 1.0, 0.0, 0.0, 1.0, 1.0, 1.0, 1.0, 1.0, 1.0, 1.0, 1.0, 1.0, 1.0, 1.0, 1.0, 1.0, 1.0, 1.0, 1.0, 1.0, 1.0, 1.0, 1.0, 0.0, 0.0, 0.0, 0.0, 1.0, 1.0, 1.0, 0.0, 1.0, 1.0, 1.0, 0.0, 1.0, 1.0, 1.0, 1.0, 1.0, 1.0, 1.0, 1.0, 1.0, 1.0, 1.0, 1.0, 0.0, 1.0, 1.0, 1.0, 0.0, 1.0, 1.0, 1.0, 1.0, 1.0, 1.0, 1.0, 1.0, 0.0, 1.0, 1.0, 0.0, 1.0, 1.0, 1.0, 1.0, 1.0, 1.0, 1.0, 1.0, 1.0, 1.0, 1.0, 1.0, 0.0, 1.0, 1.0, 1.0, 1.0, 1.0, 1.0, 1.0, 1.0, 1.0, 0.0, 1.0, 1.0, 1.0, 1.0, 0.0, 1.0, 1.0, 1.0, 1.0, 1.0, 1.0, 1.0, 0.0, 1.0, 1.0, 1.0, 1.0, 1.0, 0.0, 1.0, 1.0, 1.0, 1.0, 1.0, 1.0, 1.0, 1.0, 1.0, 0.0, 1.0, 1.0, 1.0, 1.0, 1.0, 0.0, 1.0, 1.0, 0.0, 1.0, 1.0, 1.0, 1.0, 1.0, 1.0, 1.0, 1.0, 0.0, 1.0, 1.0, 1.0, 1.0, 1.0, 0.0, 1.0, 1.0, 1.0, 0.0, 0.0, 1.0, 1.0, 1.0, 1.0, 1.0, 1.0, 1.0, 0.0, 1.0, 1.0, 1.0, 1.0, 1.0, 1.0, 1.0, 1.0, 1.0, 1.0, 1.0, 0.0, 1.0, 1.0, 1.0, 0.0, 1.0, 1.0, 1.0, 1.0, 0.0, 0.0, 1.0, 0.0, 0.0, 0.0, 1.0, 1.0, 0.0, 0.0, 1.0, 1.0, 1.0, 1.0, 1.0, 1.0, 1.0, 1.0, 1.0, 1.0, 1.0, 1.0, 1.0, 1.0, 1.0, 1.0, 1.0, 1.0, 1.0, 1.0, 1.0, 1.0, 1.0, 1.0, 1.0, 1.0, 1.0, 1.0, 1.0, 1.0, 1.0, 1.0, 1.0, 1.0, 1.0, 1.0, 0.0, 1.0, 0.0]\n"
     ]
    }
   ],
   "source": [
    "scores = model.evaluate(X_test, y_test)\n",
    "print(\"\\n%s: %.2f%%\" % (model.metrics_names[1], scores[1]*100))\n",
    "\n",
    "predictions = model.predict(X_test)\n",
    "rounded = [round(x[0]) for x in predictions]\n",
    "print(rounded)"
   ]
  },
  {
   "cell_type": "code",
   "execution_count": null,
   "metadata": {},
   "outputs": [],
   "source": []
  }
 ],
 "metadata": {
  "kernelspec": {
   "display_name": "Python 3",
   "language": "python",
   "name": "python3"
  },
  "language_info": {
   "codemirror_mode": {
    "name": "ipython",
    "version": 3
   },
   "file_extension": ".py",
   "mimetype": "text/x-python",
   "name": "python",
   "nbconvert_exporter": "python",
   "pygments_lexer": "ipython3",
   "version": "3.7.5"
  }
 },
 "nbformat": 4,
 "nbformat_minor": 2
}
