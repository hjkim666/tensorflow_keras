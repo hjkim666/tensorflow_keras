{
  "nbformat": 4,
  "nbformat_minor": 0,
  "metadata": {
    "colab": {
      "name": "rnn_simple_imdb.ipynb",
      "provenance": []
    },
    "kernelspec": {
      "display_name": "Python 3",
      "language": "python",
      "name": "python3"
    }
  },
  "cells": [
    {
      "cell_type": "code",
      "metadata": {
        "id": "q-qWQ1y-Cpdf",
        "colab_type": "code",
        "outputId": "8bf9c97e-8e53-4c6b-8ac4-05db821d507d",
        "colab": {
          "base_uri": "https://localhost:8080/",
          "height": 34
        }
      },
      "source": [
        "import keras\n",
        "keras.__version__"
      ],
      "execution_count": 0,
      "outputs": [
        {
          "output_type": "execute_result",
          "data": {
            "text/plain": [
              "'2.2.4'"
            ]
          },
          "metadata": {
            "tags": []
          },
          "execution_count": 2
        }
      ]
    },
    {
      "cell_type": "markdown",
      "metadata": {
        "id": "a4bZhLm2Cpdr",
        "colab_type": "text"
      },
      "source": [
        "# SimpleRNN"
      ]
    },
    {
      "cell_type": "code",
      "metadata": {
        "id": "Cq1m_Hg8Cpdt",
        "colab_type": "code",
        "outputId": "e6942501-a4cc-4e26-c878-054f612f24b5",
        "colab": {
          "base_uri": "https://localhost:8080/",
          "height": 34
        }
      },
      "source": [
        "from keras.layers import SimpleRNN"
      ],
      "execution_count": 0,
      "outputs": [
        {
          "output_type": "stream",
          "text": [
            "Using TensorFlow backend.\n"
          ],
          "name": "stderr"
        }
      ]
    },
    {
      "cell_type": "markdown",
      "metadata": {
        "id": "2KE49Py2Cpdy",
        "colab_type": "text"
      },
      "source": [
        "입력데이터 (batch_size, timesteps, input_features)\n",
        "\n",
        "### SimpleRNN 두 가지 모드\n",
        "\n",
        "1) 각 타임스텝의 출력을 모은 전체 시퀀스를 반환(크기가 `(batch_size, timesteps, output_features)`인 3D 텐서\n",
        "\n",
        "2) 입력 시퀀스에 대한 마지막 출력만 반환(크기가 `(batch_size, output_features)`인 2D 텐서). 이 모드는 객체를 생성할 때 `return_sequences` 매개변수로 선택할 수 있습니다."
      ]
    },
    {
      "cell_type": "code",
      "metadata": {
        "id": "Iqor0mRpCpd0",
        "colab_type": "code",
        "outputId": "78b5c135-8565-4a5d-9abd-6989d58cf31c",
        "colab": {
          "base_uri": "https://localhost:8080/",
          "height": 283
        }
      },
      "source": [
        "from keras.models import Sequential\n",
        "from keras.layers import Embedding, SimpleRNN\n",
        "\n",
        "model = Sequential()\n",
        "model.add(Embedding(10000, 32))\n",
        "model.add(SimpleRNN(32))\n",
        "model.summary()"
      ],
      "execution_count": 0,
      "outputs": [
        {
          "output_type": "stream",
          "text": [
            "WARNING:tensorflow:From /usr/local/lib/python3.6/dist-packages/tensorflow/python/framework/op_def_library.py:263: colocate_with (from tensorflow.python.framework.ops) is deprecated and will be removed in a future version.\n",
            "Instructions for updating:\n",
            "Colocations handled automatically by placer.\n",
            "_________________________________________________________________\n",
            "Layer (type)                 Output Shape              Param #   \n",
            "=================================================================\n",
            "embedding_1 (Embedding)      (None, None, 32)          320000    \n",
            "_________________________________________________________________\n",
            "simple_rnn_1 (SimpleRNN)     (None, 32)                2080      \n",
            "=================================================================\n",
            "Total params: 322,080\n",
            "Trainable params: 322,080\n",
            "Non-trainable params: 0\n",
            "_________________________________________________________________\n"
          ],
          "name": "stdout"
        }
      ]
    },
    {
      "cell_type": "code",
      "metadata": {
        "id": "iL3HVJ68Cpd3",
        "colab_type": "code",
        "outputId": "ba20542c-fe27-4f63-af81-81099cdffa61",
        "colab": {
          "base_uri": "https://localhost:8080/",
          "height": 210
        }
      },
      "source": [
        "model = Sequential()\n",
        "model.add(Embedding(10000, 32))\n",
        "model.add(SimpleRNN(32, return_sequences=True))\n",
        "model.summary()"
      ],
      "execution_count": 0,
      "outputs": [
        {
          "output_type": "stream",
          "text": [
            "_________________________________________________________________\n",
            "Layer (type)                 Output Shape              Param #   \n",
            "=================================================================\n",
            "embedding_2 (Embedding)      (None, None, 32)          320000    \n",
            "_________________________________________________________________\n",
            "simple_rnn_2 (SimpleRNN)     (None, None, 32)          2080      \n",
            "=================================================================\n",
            "Total params: 322,080\n",
            "Trainable params: 322,080\n",
            "Non-trainable params: 0\n",
            "_________________________________________________________________\n"
          ],
          "name": "stdout"
        }
      ]
    },
    {
      "cell_type": "markdown",
      "metadata": {
        "id": "wKP1kTXxCpd6",
        "colab_type": "text"
      },
      "source": [
        "네트워크의 표현력을 증가시키기 위해 여러 개의 순환 층을 차례대로 쌓음"
      ]
    },
    {
      "cell_type": "code",
      "metadata": {
        "id": "6wCZmjmHCpd7",
        "colab_type": "code",
        "outputId": "aebef0d2-e3f1-4464-beac-309b33c4b0d7",
        "colab": {
          "base_uri": "https://localhost:8080/",
          "height": 316
        }
      },
      "source": [
        "model = Sequential()\n",
        "model.add(Embedding(10000, 32))\n",
        "model.add(SimpleRNN(32, return_sequences=True))\n",
        "model.add(SimpleRNN(32, return_sequences=True))\n",
        "model.add(SimpleRNN(32, return_sequences=True))\n",
        "model.add(SimpleRNN(32))  # 맨 위 층만 마지막 출력을 반환합니다.\n",
        "model.summary()"
      ],
      "execution_count": 0,
      "outputs": [
        {
          "output_type": "stream",
          "text": [
            "_________________________________________________________________\n",
            "Layer (type)                 Output Shape              Param #   \n",
            "=================================================================\n",
            "embedding_3 (Embedding)      (None, None, 32)          320000    \n",
            "_________________________________________________________________\n",
            "simple_rnn_3 (SimpleRNN)     (None, None, 32)          2080      \n",
            "_________________________________________________________________\n",
            "simple_rnn_4 (SimpleRNN)     (None, None, 32)          2080      \n",
            "_________________________________________________________________\n",
            "simple_rnn_5 (SimpleRNN)     (None, None, 32)          2080      \n",
            "_________________________________________________________________\n",
            "simple_rnn_6 (SimpleRNN)     (None, 32)                2080      \n",
            "=================================================================\n",
            "Total params: 328,320\n",
            "Trainable params: 328,320\n",
            "Non-trainable params: 0\n",
            "_________________________________________________________________\n"
          ],
          "name": "stdout"
        }
      ]
    },
    {
      "cell_type": "markdown",
      "metadata": {
        "id": "DvJ1xh96Cpd-",
        "colab_type": "text"
      },
      "source": [
        "IMDB 영화 리뷰 분류 문제\n",
        " - 데이터 전처리"
      ]
    },
    {
      "cell_type": "code",
      "metadata": {
        "id": "mSvSRMrUCpd-",
        "colab_type": "code",
        "outputId": "4d0cfbc2-39a3-4a6b-a296-c228fc11db4e",
        "colab": {}
      },
      "source": [
        "from keras.datasets import imdb\n",
        "from keras.preprocessing import sequence\n",
        "\n",
        "max_features = 10000  # 특성으로 사용할 단어의 수\n",
        "maxlen = 500  # 사용할 텍스트의 길이(가장 빈번한 max_features 개의 단어만 사용)\n",
        "batch_size = 32\n",
        "\n",
        "print('데이터 로딩...')\n",
        "(input_train, y_train), (input_test, y_test) = imdb.load_data(num_words=max_features)\n",
        "print(len(input_train), '훈련 시퀀스')\n",
        "print(len(input_test), '테스트 시퀀스')\n",
        "\n",
        "print('시퀀스 패딩 (samples x time)')\n",
        "input_train = sequence.pad_sequences(input_train, maxlen=maxlen)\n",
        "input_test = sequence.pad_sequences(input_test, maxlen=maxlen)\n",
        "print('input_train 크기:', input_train.shape)\n",
        "print('input_test 크기:', input_test.shape)"
      ],
      "execution_count": 0,
      "outputs": [
        {
          "output_type": "stream",
          "text": [
            "데이터 로딩...\n",
            "25000 훈련 시퀀스\n",
            "25000 테스트 시퀀스\n",
            "시퀀스 패딩 (samples x time)\n",
            "input_train 크기: (25000, 500)\n",
            "input_test 크기: (25000, 500)\n"
          ],
          "name": "stdout"
        }
      ]
    },
    {
      "cell_type": "markdown",
      "metadata": {
        "id": "-hHwxsl8CpeB",
        "colab_type": "text"
      },
      "source": [
        "`Embedding` 층과 `SimpleRNN` 층을 사용해 간단한 순환 네트워크를 학습\n"
      ]
    },
    {
      "cell_type": "code",
      "metadata": {
        "id": "1T2F63pKCpeD",
        "colab_type": "code",
        "outputId": "2ab8686e-d536-4bcd-ceb2-5309d126a0a1",
        "colab": {}
      },
      "source": [
        "from keras.layers import Dense\n",
        "\n",
        "model = Sequential()\n",
        "model.add(Embedding(max_features, 32))    #10000\n",
        "model.add(SimpleRNN(32))\n",
        "model.add(Dense(1, activation='sigmoid'))\n",
        "\n",
        "model.compile(optimizer='rmsprop'\n",
        "              , loss='binary_crossentropy'\n",
        "              , metrics=['acc'])\n",
        "history = model.fit(input_train, y_train,\n",
        "                    epochs=10,\n",
        "                    batch_size=128,\n",
        "                    validation_split=0.2)"
      ],
      "execution_count": 0,
      "outputs": [
        {
          "output_type": "stream",
          "text": [
            "Train on 20000 samples, validate on 5000 samples\n",
            "Epoch 1/10\n",
            "20000/20000 [==============================] - 52s 3ms/step - loss: 0.6443 - acc: 0.6121 - val_loss: 0.5934 - val_acc: 0.6722\n",
            "Epoch 2/10\n",
            "20000/20000 [==============================] - 48s 2ms/step - loss: 0.4392 - acc: 0.8077 - val_loss: 0.4324 - val_acc: 0.8114\n",
            "Epoch 3/10\n",
            "20000/20000 [==============================] - 48s 2ms/step - loss: 0.3227 - acc: 0.8687 - val_loss: 0.4221 - val_acc: 0.8138\n",
            "Epoch 4/10\n",
            "20000/20000 [==============================] - 48s 2ms/step - loss: 0.2470 - acc: 0.9023 - val_loss: 0.4400 - val_acc: 0.8022\n",
            "Epoch 5/10\n",
            "20000/20000 [==============================] - 48s 2ms/step - loss: 0.1917 - acc: 0.9267 - val_loss: 0.3538 - val_acc: 0.8674\n",
            "Epoch 6/10\n",
            "20000/20000 [==============================] - 50s 2ms/step - loss: 0.1294 - acc: 0.9543 - val_loss: 0.4043 - val_acc: 0.8412\n",
            "Epoch 7/10\n",
            "20000/20000 [==============================] - 48s 2ms/step - loss: 0.0856 - acc: 0.9719 - val_loss: 0.4215 - val_acc: 0.8544\n",
            "Epoch 8/10\n",
            "20000/20000 [==============================] - 47s 2ms/step - loss: 0.0495 - acc: 0.9850 - val_loss: 0.6116 - val_acc: 0.7936\n",
            "Epoch 9/10\n",
            "20000/20000 [==============================] - 48s 2ms/step - loss: 0.0308 - acc: 0.9908 - val_loss: 0.6191 - val_acc: 0.8062\n",
            "Epoch 10/10\n",
            "20000/20000 [==============================] - 48s 2ms/step - loss: 0.0301 - acc: 0.9913 - val_loss: 0.6274 - val_acc: 0.8168\n"
          ],
          "name": "stdout"
        }
      ]
    },
    {
      "cell_type": "code",
      "metadata": {
        "scrolled": true,
        "id": "C0db1YhaCpeG",
        "colab_type": "code",
        "outputId": "85148810-b27e-4dae-9a28-c639dda1e370",
        "colab": {}
      },
      "source": [
        "input_train.shape"
      ],
      "execution_count": 0,
      "outputs": [
        {
          "output_type": "execute_result",
          "data": {
            "text/plain": [
              "(25000, 500)"
            ]
          },
          "metadata": {
            "tags": []
          },
          "execution_count": 14
        }
      ]
    },
    {
      "cell_type": "markdown",
      "metadata": {
        "id": "zuHbhefHCpeJ",
        "colab_type": "text"
      },
      "source": [
        "### Accuracy & Loss"
      ]
    },
    {
      "cell_type": "code",
      "metadata": {
        "id": "nrXgVPQLCpeK",
        "colab_type": "code",
        "colab": {}
      },
      "source": [
        "import matplotlib.pyplot as plt"
      ],
      "execution_count": 0,
      "outputs": []
    },
    {
      "cell_type": "code",
      "metadata": {
        "id": "qUidYTtSCpeM",
        "colab_type": "code",
        "outputId": "f550b20c-19ab-4cef-f86c-4fb387770716",
        "colab": {}
      },
      "source": [
        "acc = history.history['acc']\n",
        "val_acc = history.history['val_acc']\n",
        "loss = history.history['loss']\n",
        "val_loss = history.history['val_loss']\n",
        "\n",
        "epochs = range(1, len(acc) + 1)\n",
        "\n",
        "plt.plot(epochs, acc, 'bo', label='Training acc')\n",
        "plt.plot(epochs, val_acc, 'b', label='Validation acc')\n",
        "plt.title('Training and validation accuracy')\n",
        "plt.legend()\n",
        "\n",
        "plt.figure()\n",
        "plt.plot(epochs, loss, 'bo', label='Training loss')\n",
        "plt.plot(epochs, val_loss, 'b', label='Validation loss')\n",
        "plt.title('Training and validation loss')\n",
        "plt.legend()\n",
        "\n",
        "plt.show()"
      ],
      "execution_count": 0,
      "outputs": [
        {
          "output_type": "display_data",
          "data": {
            "image/png": "[encoded data removed]",
            "text/plain": [
              "<Figure size 432x288 with 1 Axes>"
            ]
          },
          "metadata": {
            "tags": []
          }
        },
        {
          "output_type": "display_data",
          "data": {
            "image/png": "[encoded data removed]",
            "text/plain": [
              "<Figure size 432x288 with 1 Axes>"
            ]
          },
          "metadata": {
            "tags": []
          }
        }
      ]
    },
    {
      "cell_type": "markdown",
      "metadata": {
        "id": "580txRaTCpeP",
        "colab_type": "text"
      },
      "source": [
        "SimpleRNN 기존모델(logistic regression)보다 성능이 높지 않음(85% 정도의 val_acc). 이런 원인은 전체 시퀀스가 아니라 처음 500개의 단어만 입력에 사용했기 때문"
      ]
    },
    {
      "cell_type": "markdown",
      "metadata": {
        "id": "Z-OYCjyOCpeP",
        "colab_type": "text"
      },
      "source": [
        "## LSTM 예제"
      ]
    },
    {
      "cell_type": "code",
      "metadata": {
        "id": "iTdY1QfFCpeQ",
        "colab_type": "code",
        "outputId": "93bfb5ee-c25a-48a9-d55d-00dbe48f3d89",
        "colab": {}
      },
      "source": [
        "from keras.layers import LSTM\n",
        "\n",
        "model = Sequential()\n",
        "model.add(Embedding(max_features, 32))\n",
        "model.add(LSTM(32))\n",
        "model.add(Dense(1, activation='sigmoid'))\n",
        "\n",
        "model.compile(optimizer='rmsprop',\n",
        "              loss='binary_crossentropy',\n",
        "              metrics=['acc'])\n",
        "history = model.fit(input_train, y_train,\n",
        "                    epochs=10,\n",
        "                    batch_size=128,\n",
        "                    validation_split=0.2)"
      ],
      "execution_count": 0,
      "outputs": [
        {
          "output_type": "stream",
          "text": [
            "Train on 20000 samples, validate on 5000 samples\n",
            "Epoch 1/10\n",
            "20000/20000 [==============================] - 223s 11ms/step - loss: 0.5087 - acc: 0.7638 - val_loss: 0.3793 - val_acc: 0.8470\n",
            "Epoch 2/10\n",
            "20000/20000 [==============================] - 214s 11ms/step - loss: 0.2933 - acc: 0.8849 - val_loss: 0.3141 - val_acc: 0.8620\n",
            "Epoch 3/10\n",
            "20000/20000 [==============================] - 218s 11ms/step - loss: 0.2305 - acc: 0.9107 - val_loss: 0.2871 - val_acc: 0.8904\n",
            "Epoch 4/10\n",
            "20000/20000 [==============================] - 216s 11ms/step - loss: 0.2004 - acc: 0.9275 - val_loss: 0.3227 - val_acc: 0.8600\n",
            "Epoch 5/10\n",
            "20000/20000 [==============================] - 216s 11ms/step - loss: 0.1751 - acc: 0.9354 - val_loss: 0.2931 - val_acc: 0.8746\n",
            "Epoch 6/10\n",
            "20000/20000 [==============================] - 219s 11ms/step - loss: 0.1575 - acc: 0.9420 - val_loss: 0.4278 - val_acc: 0.8670\n",
            "Epoch 7/10\n",
            "20000/20000 [==============================] - 220s 11ms/step - loss: 0.1422 - acc: 0.9499 - val_loss: 0.3914 - val_acc: 0.8814\n",
            "Epoch 8/10\n",
            "20000/20000 [==============================] - 221s 11ms/step - loss: 0.1316 - acc: 0.9530 - val_loss: 0.3222 - val_acc: 0.8868\n",
            "Epoch 9/10\n",
            "20000/20000 [==============================] - 215s 11ms/step - loss: 0.1188 - acc: 0.9573 - val_loss: 0.4144 - val_acc: 0.8574\n",
            "Epoch 10/10\n",
            "20000/20000 [==============================] - 218s 11ms/step - loss: 0.1090 - acc: 0.9605 - val_loss: 0.4547 - val_acc: 0.8704\n"
          ],
          "name": "stdout"
        }
      ]
    },
    {
      "cell_type": "code",
      "metadata": {
        "id": "1TMttYwyCpeT",
        "colab_type": "code",
        "outputId": "226dd40b-49ef-415d-c5fd-c79f34c7ff90",
        "colab": {}
      },
      "source": [
        "acc = history.history['acc']\n",
        "val_acc = history.history['val_acc']\n",
        "loss = history.history['loss']\n",
        "val_loss = history.history['val_loss']\n",
        "\n",
        "epochs = range(1, len(acc) + 1)\n",
        "\n",
        "plt.plot(epochs, acc, 'bo', label='Training acc')\n",
        "plt.plot(epochs, val_acc, 'b', label='Validation acc')\n",
        "plt.title('Training and validation accuracy')\n",
        "plt.legend()\n",
        "\n",
        "plt.figure()\n",
        "plt.plot(epochs, loss, 'bo', label='Training loss')\n",
        "plt.plot(epochs, val_loss, 'b', label='Validation loss')\n",
        "plt.title('Training and validation loss')\n",
        "plt.legend()\n",
        "\n",
        "plt.show()"
      ],
      "execution_count": 0,
      "outputs": [
        {
          "output_type": "display_data",
          "data": {
            "image/png": "[encoded data removed]",
            "text/plain": [
              "<Figure size 432x288 with 1 Axes>"
            ]
          },
          "metadata": {
            "tags": []
          }
        },
        {
          "output_type": "display_data",
          "data": {
            "image/png": "[encoded data removed]",
            "text/plain": [
              "<Figure size 432x288 with 1 Axes>"
            ]
          },
          "metadata": {
            "tags": []
          }
        }
      ]
    },
    {
      "cell_type": "code",
      "metadata": {
        "id": "hf8D7c1MCpeW",
        "colab_type": "code",
        "colab": {}
      },
      "source": [
        ""
      ],
      "execution_count": 0,
      "outputs": []
    }
  ]
}